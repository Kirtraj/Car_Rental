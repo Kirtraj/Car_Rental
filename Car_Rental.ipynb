{
 "cells": [
  {
   "cell_type": "code",
   "execution_count": 2,
   "id": "4788061b-b823-4499-9ae2-a665d68504be",
   "metadata": {},
   "outputs": [
    {
     "name": "stdout",
     "output_type": "stream",
     "text": [
      "/voc/work\n"
     ]
    }
   ],
   "source": [
    "import os\n",
    "print(os.getcwd())\n"
   ]
  },
  {
   "cell_type": "code",
   "execution_count": 3,
   "id": "197f9574-10db-471e-925d-f76813909538",
   "metadata": {},
   "outputs": [],
   "source": [
    "os.chdir('/voc/work')\n"
   ]
  },
  {
   "cell_type": "code",
   "execution_count": 5,
   "id": "0c927526-55b2-4554-a3c4-e8b38062bb4c",
   "metadata": {},
   "outputs": [],
   "source": [
    "# car_rental.py\n",
    "\n",
    "from datetime import datetime\n",
    "\n",
    "class CarRental:\n",
    "    def __init__(self, stock=0):\n",
    "        \"\"\"\n",
    "        Constructor to define the inventory (stock) of cars.\n",
    "        \"\"\"\n",
    "        self.stock = stock\n",
    "\n",
    "    def display_stock(self):\n",
    "        \"\"\"\n",
    "        Display the number of available cars.\n",
    "        \"\"\"\n",
    "        print(f\"Available cars: {self.stock}\")\n",
    "        return self.stock\n",
    "\n",
    "    def rent_car_hourly(self, n):\n",
    "        \"\"\"\n",
    "        Rent cars on an hourly basis.\n",
    "        \"\"\"\n",
    "        if n <= 0:\n",
    "            print(\"Number of cars should be positive.\")\n",
    "            return None\n",
    "        elif n > self.stock:\n",
    "            print(f\"Sorry, only {self.stock} cars are available to rent.\")\n",
    "            return None\n",
    "        else:\n",
    "            now = datetime.now()\n",
    "            print(f\"Rented {n} car(s) on an hourly basis at {now.hour} hours.\")\n",
    "            self.stock -= n\n",
    "            return now\n",
    "\n",
    "    def rent_car_daily(self, n):\n",
    "        \"\"\"\n",
    "        Rent cars on a daily basis.\n",
    "        \"\"\"\n",
    "        if n <= 0:\n",
    "            print(\"Number of cars should be positive.\")\n",
    "            return None\n",
    "        elif n > self.stock:\n",
    "            print(f\"Sorry, only {self.stock} cars are available to rent.\")\n",
    "            return None\n",
    "        else:\n",
    "            now = datetime.now()\n",
    "            print(f\"Rented {n} car(s) on a daily basis at {now.day} day.\")\n",
    "            self.stock -= n\n",
    "            return now\n",
    "\n",
    "    def rent_car_weekly(self, n):\n",
    "        \"\"\"\n",
    "        Rent cars on a weekly basis.\n",
    "        \"\"\"\n",
    "        if n <= 0:\n",
    "            print(\"Number of cars should be positive.\")\n",
    "            return None\n",
    "        elif n > self.stock:\n",
    "            print(f\"Sorry, only {self.stock} cars are available to rent.\")\n",
    "            return None\n",
    "        else:\n",
    "            now = datetime.now()\n",
    "            print(f\"Rented {n} car(s) on a weekly basis at {now.isocalendar()[1]} week.\")\n",
    "            self.stock -= n\n",
    "            return now\n",
    "\n",
    "    def return_car(self, request):\n",
    "        \"\"\"\n",
    "        Return cars and generate bill.\n",
    "        \"\"\"\n",
    "        rental_time, rental_basis, num_of_cars = request\n",
    "        bill = 0\n",
    "\n",
    "        if rental_time and rental_basis and num_of_cars:\n",
    "            self.stock += num_of_cars\n",
    "            now = datetime.now()\n",
    "            rental_period = now - rental_time\n",
    "\n",
    "            if rental_basis == 1:  # hourly\n",
    "                bill = round(rental_period.seconds / 3600) * 5 * num_of_cars\n",
    "            elif rental_basis == 2:  # daily\n",
    "                bill = rental_period.days * 20 * num_of_cars\n",
    "            elif rental_basis == 3:  # weekly\n",
    "                bill = (rental_period.days // 7) * 60 * num_of_cars\n",
    "\n",
    "            if (3 <= num_of_cars <= 5):\n",
    "                print(\"You are eligible for a 30% discount\")\n",
    "                bill = bill * 0.7\n",
    "\n",
    "            print(f\"Thank you for returning your car(s). Your bill is ${bill}.\")\n",
    "            return bill\n",
    "        else:\n",
    "            print(\"Invalid request.\")\n",
    "            return None\n",
    "\n",
    "class Customer:\n",
    "    def __init__(self):\n",
    "        \"\"\"\n",
    "        Constructor to initialize customer rental details.\n",
    "        \"\"\"\n",
    "        self.cars = 0\n",
    "        self.rental_basis = 0\n",
    "        self.rental_time = 0\n",
    "\n",
    "    def request_car(self):\n",
    "        \"\"\"\n",
    "        Request a car.\n",
    "        \"\"\"\n",
    "        cars = input(\"How many cars would you like to rent? \")\n",
    "        try:\n",
    "            cars = int(cars)\n",
    "        except ValueError:\n",
    "            print(\"Number of cars should be a positive integer.\")\n",
    "            return -1\n",
    "\n",
    "        if cars < 1:\n",
    "            print(\"Number of cars should be greater than zero.\")\n",
    "            return -1\n",
    "        else:\n",
    "            self.cars = cars\n",
    "        return self.cars\n",
    "\n",
    "    def return_car(self):\n",
    "        \"\"\"\n",
    "        Return a rented car.\n",
    "        \"\"\"\n",
    "        if self.rental_time and self.rental_basis and self.cars:\n",
    "            return self.rental_time, self.rental_basis, self.cars\n",
    "        else:\n",
    "            return 0, 0, 0\n"
   ]
  },
  {
   "cell_type": "code",
   "execution_count": null,
   "id": "a8c4c305-9702-488f-a30a-709848244179",
   "metadata": {},
   "outputs": [],
   "source": []
  },
  {
   "cell_type": "code",
   "execution_count": null,
   "id": "96b1bfc2-2ea8-4b03-a112-543252dd9e7a",
   "metadata": {},
   "outputs": [],
   "source": []
  },
  {
   "cell_type": "code",
   "execution_count": null,
   "id": "1bd560fd-b199-4244-8fa3-4f7bc2053a4a",
   "metadata": {},
   "outputs": [],
   "source": []
  },
  {
   "cell_type": "code",
   "execution_count": null,
   "id": "5daf4414-32e1-40d8-bfcc-3e578e7af983",
   "metadata": {},
   "outputs": [
    {
     "name": "stdout",
     "output_type": "stream",
     "text": [
      "\n",
      "        ====== Car Rental Shop =======\n",
      "        1. Display available cars\n",
      "        2. Request a car on hourly basis $5\n",
      "        3. Request a car on daily basis $20\n",
      "        4. Request a car on weekly basis $60\n",
      "        5. Return a car\n",
      "        6. Exit\n",
      "        \n"
     ]
    },
    {
     "name": "stdin",
     "output_type": "stream",
     "text": [
      "Enter your choice:  \n"
     ]
    },
    {
     "name": "stdout",
     "output_type": "stream",
     "text": [
      "Invalid input. Please enter a number between 1 and 6.\n",
      "\n",
      "        ====== Car Rental Shop =======\n",
      "        1. Display available cars\n",
      "        2. Request a car on hourly basis $5\n",
      "        3. Request a car on daily basis $20\n",
      "        4. Request a car on weekly basis $60\n",
      "        5. Return a car\n",
      "        6. Exit\n",
      "        \n"
     ]
    },
    {
     "name": "stdin",
     "output_type": "stream",
     "text": [
      "Enter your choice:  1\n"
     ]
    },
    {
     "name": "stdout",
     "output_type": "stream",
     "text": [
      "Available cars: 100\n",
      "\n",
      "        ====== Car Rental Shop =======\n",
      "        1. Display available cars\n",
      "        2. Request a car on hourly basis $5\n",
      "        3. Request a car on daily basis $20\n",
      "        4. Request a car on weekly basis $60\n",
      "        5. Return a car\n",
      "        6. Exit\n",
      "        \n"
     ]
    },
    {
     "name": "stdin",
     "output_type": "stream",
     "text": [
      "Enter your choice:  20\n"
     ]
    },
    {
     "name": "stdout",
     "output_type": "stream",
     "text": [
      "Invalid input. Please enter a number between 1 and 6.\n",
      "\n",
      "        ====== Car Rental Shop =======\n",
      "        1. Display available cars\n",
      "        2. Request a car on hourly basis $5\n",
      "        3. Request a car on daily basis $20\n",
      "        4. Request a car on weekly basis $60\n",
      "        5. Return a car\n",
      "        6. Exit\n",
      "        \n"
     ]
    },
    {
     "name": "stdin",
     "output_type": "stream",
     "text": [
      "Enter your choice:  1\n"
     ]
    },
    {
     "name": "stdout",
     "output_type": "stream",
     "text": [
      "Available cars: 100\n",
      "\n",
      "        ====== Car Rental Shop =======\n",
      "        1. Display available cars\n",
      "        2. Request a car on hourly basis $5\n",
      "        3. Request a car on daily basis $20\n",
      "        4. Request a car on weekly basis $60\n",
      "        5. Return a car\n",
      "        6. Exit\n",
      "        \n"
     ]
    },
    {
     "name": "stdin",
     "output_type": "stream",
     "text": [
      "Enter your choice:  2\n",
      "How many cars would you like to rent?  20\n"
     ]
    },
    {
     "name": "stdout",
     "output_type": "stream",
     "text": [
      "Rented 20 car(s) on an hourly basis at 15 hours.\n",
      "\n",
      "        ====== Car Rental Shop =======\n",
      "        1. Display available cars\n",
      "        2. Request a car on hourly basis $5\n",
      "        3. Request a car on daily basis $20\n",
      "        4. Request a car on weekly basis $60\n",
      "        5. Return a car\n",
      "        6. Exit\n",
      "        \n"
     ]
    }
   ],
   "source": [
    "# car_rental_project.ipynb\n",
    "\n",
    "\n",
    "\n",
    "def main():\n",
    "    rental_company = CarRental(100)  # Assume 100 cars are available initially\n",
    "    customer = Customer()\n",
    "\n",
    "    while True:\n",
    "        print(\"\"\"\n",
    "        ====== Car Rental Shop =======\n",
    "        1. Display available cars\n",
    "        2. Request a car on hourly basis $5\n",
    "        3. Request a car on daily basis $20\n",
    "        4. Request a car on weekly basis $60\n",
    "        5. Return a car\n",
    "        6. Exit\n",
    "        \"\"\")\n",
    "\n",
    "        choice = input(\"Enter your choice: \")\n",
    "\n",
    "        try:\n",
    "            choice = int(choice)\n",
    "        except ValueError:\n",
    "            print(\"Invalid input. Please enter a number between 1 and 6.\")\n",
    "            continue\n",
    "\n",
    "        if choice == 1:\n",
    "            rental_company.display_stock()\n",
    "\n",
    "        elif choice == 2:\n",
    "            customer.rental_time = rental_company.rent_car_hourly(customer.request_car())\n",
    "            customer.rental_basis = 1  # hourly\n",
    "\n",
    "        elif choice == 3:\n",
    "            customer.rental_time = rental_company.rent_car_daily(customer.request_car())\n",
    "            customer.rental_basis = 2  # daily\n",
    "\n",
    "        elif choice == 4:\n",
    "            customer.rental_time = rental_company.rent_car_weekly(customer.request_car())\n",
    "            customer.rental_basis = 3  # weekly\n",
    "\n",
    "        elif choice == 5:\n",
    "            bill = rental_company.return_car(customer.return_car())\n",
    "            customer.cars = 0\n",
    "            customer.rental_basis = 0\n",
    "            customer.rental_time = 0\n",
    "\n",
    "        elif choice == 6:\n",
    "            print(\"Thank you for using the car rental system.\")\n",
    "            break\n",
    "\n",
    "        else:\n",
    "            print(\"Invalid input. Please enter a number between 1 and 6.\")\n",
    "\n",
    "if __name__ == \"__main__\":\n",
    "    main()\n"
   ]
  },
  {
   "cell_type": "code",
   "execution_count": null,
   "id": "6e78dd49-9f5b-4604-b7ee-d76eb509f7f1",
   "metadata": {},
   "outputs": [],
   "source": []
  },
  {
   "cell_type": "code",
   "execution_count": null,
   "id": "fa555dc4-09f5-4acd-81fe-a09a96c97b58",
   "metadata": {},
   "outputs": [],
   "source": []
  },
  {
   "cell_type": "code",
   "execution_count": null,
   "id": "2908060e-310c-4876-977a-5f5749235223",
   "metadata": {},
   "outputs": [],
   "source": []
  },
  {
   "cell_type": "code",
   "execution_count": null,
   "id": "d86bcde4-e97b-4964-8f8a-f201adda96f5",
   "metadata": {},
   "outputs": [],
   "source": []
  },
  {
   "cell_type": "code",
   "execution_count": null,
   "id": "0a39f43c-f253-4f4a-acaa-20c08ca21945",
   "metadata": {},
   "outputs": [],
   "source": []
  }
 ],
 "metadata": {
  "kernelspec": {
   "display_name": "Python 3 [3.10]",
   "language": "python",
   "name": "python3"
  },
  "language_info": {
   "codemirror_mode": {
    "name": "ipython",
    "version": 3
   },
   "file_extension": ".py",
   "mimetype": "text/x-python",
   "name": "python",
   "nbconvert_exporter": "python",
   "pygments_lexer": "ipython3",
   "version": "3.10.2"
  }
 },
 "nbformat": 4,
 "nbformat_minor": 5
}
